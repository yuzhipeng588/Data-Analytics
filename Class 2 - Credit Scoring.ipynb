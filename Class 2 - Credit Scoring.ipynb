{
 "cells": [
  {
   "cell_type": "markdown",
   "metadata": {},
   "source": [
    "# CLASS 2: CREDIT SCORING"
   ]
  },
  {
   "cell_type": "markdown",
   "metadata": {},
   "source": [
    "Ensure that the necessary data files used in this assignment are in the same folder or location as the current working directory of this ipython notebook"
   ]
  },
  {
   "cell_type": "markdown",
   "metadata": {},
   "source": [
    "In this example we will be using the following libraries for handling, plotting and analysing the data \n",
    "\n",
    "* Pandas\n",
    " * Representing data as DataFrames.\n",
    "\n",
    "* Statsmodels\n",
    " * Statistical models and tests.\n",
    "\n",
    "* Matplotlib\n",
    " * For drawing plots and charts for visualising data."
   ]
  },
  {
   "cell_type": "code",
   "execution_count": 1,
   "metadata": {
    "collapsed": false
   },
   "outputs": [],
   "source": [
    "# This line will make our plots appear inline in our notebook (as opposed\n",
    "# to popping out in a separate window).\n",
    "%matplotlib inline\n",
    "\n",
    "# Import the libraries that we'll be using.\n",
    "import pandas as pd\n",
    "import matplotlib\n",
    "import matplotlib.pyplot as plt\n",
    "import statsmodels.formula.api as smf\n",
    "from IPython.display import display"
   ]
  },
  {
   "cell_type": "code",
   "execution_count": 2,
   "metadata": {
    "collapsed": false
   },
   "outputs": [],
   "source": [
    "# Set the DPI (dots per inch) for our plots to be 100. This makes them\n",
    "# larger, when we view them in the notebook.\n",
    "matplotlib.rc(\"savefig\", dpi=100)\n",
    "\n",
    "# Set the default style for our plots to be \"ggplot\", which matches\n",
    "# the style of a common R plotting library.\n",
    "plt.style.use(\"ggplot\")\n",
    "\n",
    "# Set the maximum amount of data to print by default to 10 rows.\n",
    "pd.set_option('display.max_rows', 10)"
   ]
  },
  {
   "cell_type": "markdown",
   "metadata": {},
   "source": [
    "# Loading CSV Data into a pandas DataFrame"
   ]
  },
  {
   "cell_type": "code",
   "execution_count": 3,
   "metadata": {
    "collapsed": false
   },
   "outputs": [
    {
     "name": "stdout",
     "output_type": "stream",
     "text": [
      "Data's type is:\n",
      "<class 'pandas.core.frame.DataFrame'>\n",
      "The data frame's shape is...\n",
      "(300, 10)\n"
     ]
    }
   ],
   "source": [
    "# Load the CSV data as a Pandas Dataframe using pandas.read_csv() command.\n",
    "# http://pandas.pydata.org/pandas-docs/stable/generated/pandas.read_csv.html\n",
    "data = pd.read_csv(\"credit_data.csv\", skipinitialspace=True)\n",
    "\n",
    "# The type of \"data\" is a DataFrame. More documentation about operations\n",
    "# that can be performed on a DataFrame is at\n",
    "# http://pandas.pydata.org/pandas-docs/stable/generated/pandas.DataFrame.html\n",
    "print(\"Data's type is:\")\n",
    "print(type(data))\n",
    "\n",
    "# Use the function dropna() to drop N/A values from the table.\n",
    "data = data.dropna()\n",
    "\n",
    "# See how may rows and columns of data we loaded.\n",
    "print(\"The data frame's shape is...\")\n",
    "print(data.shape)"
   ]
  },
  {
   "cell_type": "markdown",
   "metadata": {},
   "source": [
    "Documentation links:\n",
    " * [pandas.read_csv](http://pandas.pydata.org/pandas-docs/stable/generated/pandas.read_csv.html)\n",
    " * [pandas.DataFrame](http://pandas.pydata.org/pandas-docs/stable/generated/pandas.DataFrame.html)"
   ]
  },
  {
   "cell_type": "code",
   "execution_count": 4,
   "metadata": {
    "collapsed": false
   },
   "outputs": [
    {
     "data": {
      "text/html": [
       "<div>\n",
       "<table border=\"1\" class=\"dataframe\">\n",
       "  <thead>\n",
       "    <tr style=\"text-align: right;\">\n",
       "      <th></th>\n",
       "      <th>Income</th>\n",
       "      <th>Rating</th>\n",
       "      <th>Cards</th>\n",
       "      <th>Age</th>\n",
       "      <th>Education</th>\n",
       "      <th>Gender</th>\n",
       "      <th>Student</th>\n",
       "      <th>Married</th>\n",
       "      <th>Ethnicity</th>\n",
       "      <th>Balance</th>\n",
       "    </tr>\n",
       "  </thead>\n",
       "  <tbody>\n",
       "    <tr>\n",
       "      <th>0</th>\n",
       "      <td>14.891</td>\n",
       "      <td>283</td>\n",
       "      <td>2</td>\n",
       "      <td>34</td>\n",
       "      <td>11</td>\n",
       "      <td>Male</td>\n",
       "      <td>No</td>\n",
       "      <td>Yes</td>\n",
       "      <td>Caucasian</td>\n",
       "      <td>333</td>\n",
       "    </tr>\n",
       "    <tr>\n",
       "      <th>1</th>\n",
       "      <td>106.025</td>\n",
       "      <td>483</td>\n",
       "      <td>3</td>\n",
       "      <td>82</td>\n",
       "      <td>15</td>\n",
       "      <td>Female</td>\n",
       "      <td>Yes</td>\n",
       "      <td>Yes</td>\n",
       "      <td>Asian</td>\n",
       "      <td>903</td>\n",
       "    </tr>\n",
       "    <tr>\n",
       "      <th>2</th>\n",
       "      <td>104.593</td>\n",
       "      <td>514</td>\n",
       "      <td>4</td>\n",
       "      <td>71</td>\n",
       "      <td>11</td>\n",
       "      <td>Male</td>\n",
       "      <td>No</td>\n",
       "      <td>No</td>\n",
       "      <td>Asian</td>\n",
       "      <td>580</td>\n",
       "    </tr>\n",
       "    <tr>\n",
       "      <th>3</th>\n",
       "      <td>148.924</td>\n",
       "      <td>681</td>\n",
       "      <td>3</td>\n",
       "      <td>36</td>\n",
       "      <td>11</td>\n",
       "      <td>Female</td>\n",
       "      <td>No</td>\n",
       "      <td>No</td>\n",
       "      <td>Asian</td>\n",
       "      <td>964</td>\n",
       "    </tr>\n",
       "    <tr>\n",
       "      <th>4</th>\n",
       "      <td>55.882</td>\n",
       "      <td>357</td>\n",
       "      <td>2</td>\n",
       "      <td>68</td>\n",
       "      <td>16</td>\n",
       "      <td>Male</td>\n",
       "      <td>No</td>\n",
       "      <td>Yes</td>\n",
       "      <td>Caucasian</td>\n",
       "      <td>331</td>\n",
       "    </tr>\n",
       "    <tr>\n",
       "      <th>...</th>\n",
       "      <td>...</td>\n",
       "      <td>...</td>\n",
       "      <td>...</td>\n",
       "      <td>...</td>\n",
       "      <td>...</td>\n",
       "      <td>...</td>\n",
       "      <td>...</td>\n",
       "      <td>...</td>\n",
       "      <td>...</td>\n",
       "      <td>...</td>\n",
       "    </tr>\n",
       "    <tr>\n",
       "      <th>295</th>\n",
       "      <td>27.272</td>\n",
       "      <td>149</td>\n",
       "      <td>5</td>\n",
       "      <td>67</td>\n",
       "      <td>10</td>\n",
       "      <td>Female</td>\n",
       "      <td>No</td>\n",
       "      <td>Yes</td>\n",
       "      <td>Caucasian</td>\n",
       "      <td>0</td>\n",
       "    </tr>\n",
       "    <tr>\n",
       "      <th>296</th>\n",
       "      <td>65.896</td>\n",
       "      <td>370</td>\n",
       "      <td>1</td>\n",
       "      <td>49</td>\n",
       "      <td>17</td>\n",
       "      <td>Female</td>\n",
       "      <td>No</td>\n",
       "      <td>Yes</td>\n",
       "      <td>Caucasian</td>\n",
       "      <td>293</td>\n",
       "    </tr>\n",
       "    <tr>\n",
       "      <th>297</th>\n",
       "      <td>55.054</td>\n",
       "      <td>321</td>\n",
       "      <td>3</td>\n",
       "      <td>74</td>\n",
       "      <td>17</td>\n",
       "      <td>Male</td>\n",
       "      <td>No</td>\n",
       "      <td>Yes</td>\n",
       "      <td>Asian</td>\n",
       "      <td>188</td>\n",
       "    </tr>\n",
       "    <tr>\n",
       "      <th>298</th>\n",
       "      <td>20.791</td>\n",
       "      <td>204</td>\n",
       "      <td>1</td>\n",
       "      <td>70</td>\n",
       "      <td>18</td>\n",
       "      <td>Female</td>\n",
       "      <td>No</td>\n",
       "      <td>No</td>\n",
       "      <td>African American</td>\n",
       "      <td>0</td>\n",
       "    </tr>\n",
       "    <tr>\n",
       "      <th>299</th>\n",
       "      <td>24.919</td>\n",
       "      <td>372</td>\n",
       "      <td>3</td>\n",
       "      <td>76</td>\n",
       "      <td>11</td>\n",
       "      <td>Female</td>\n",
       "      <td>No</td>\n",
       "      <td>Yes</td>\n",
       "      <td>African American</td>\n",
       "      <td>711</td>\n",
       "    </tr>\n",
       "  </tbody>\n",
       "</table>\n",
       "<p>300 rows × 10 columns</p>\n",
       "</div>"
      ],
      "text/plain": [
       "      Income  Rating  Cards  Age  Education  Gender Student Married  \\\n",
       "0     14.891     283      2   34         11    Male      No     Yes   \n",
       "1    106.025     483      3   82         15  Female     Yes     Yes   \n",
       "2    104.593     514      4   71         11    Male      No      No   \n",
       "3    148.924     681      3   36         11  Female      No      No   \n",
       "4     55.882     357      2   68         16    Male      No     Yes   \n",
       "..       ...     ...    ...  ...        ...     ...     ...     ...   \n",
       "295   27.272     149      5   67         10  Female      No     Yes   \n",
       "296   65.896     370      1   49         17  Female      No     Yes   \n",
       "297   55.054     321      3   74         17    Male      No     Yes   \n",
       "298   20.791     204      1   70         18  Female      No      No   \n",
       "299   24.919     372      3   76         11  Female      No     Yes   \n",
       "\n",
       "            Ethnicity  Balance  \n",
       "0           Caucasian      333  \n",
       "1               Asian      903  \n",
       "2               Asian      580  \n",
       "3               Asian      964  \n",
       "4           Caucasian      331  \n",
       "..                ...      ...  \n",
       "295         Caucasian        0  \n",
       "296         Caucasian      293  \n",
       "297             Asian      188  \n",
       "298  African American        0  \n",
       "299  African American      711  \n",
       "\n",
       "[300 rows x 10 columns]"
      ]
     },
     "metadata": {},
     "output_type": "display_data"
    }
   ],
   "source": [
    "# Let's print the data (all 300 rows ...), using IPython notebook's\n",
    "# display function.\n",
    "display(data)"
   ]
  },
  {
   "cell_type": "code",
   "execution_count": 5,
   "metadata": {
    "collapsed": false
   },
   "outputs": [
    {
     "name": "stdout",
     "output_type": "stream",
     "text": [
      "      Income  Rating  Cards  Age  Education  Gender Student Married  \\\n",
      "0     14.891     283      2   34         11    Male      No     Yes   \n",
      "1    106.025     483      3   82         15  Female     Yes     Yes   \n",
      "2    104.593     514      4   71         11    Male      No      No   \n",
      "3    148.924     681      3   36         11  Female      No      No   \n",
      "4     55.882     357      2   68         16    Male      No     Yes   \n",
      "..       ...     ...    ...  ...        ...     ...     ...     ...   \n",
      "295   27.272     149      5   67         10  Female      No     Yes   \n",
      "296   65.896     370      1   49         17  Female      No     Yes   \n",
      "297   55.054     321      3   74         17    Male      No     Yes   \n",
      "298   20.791     204      1   70         18  Female      No      No   \n",
      "299   24.919     372      3   76         11  Female      No     Yes   \n",
      "\n",
      "            Ethnicity  Balance  \n",
      "0           Caucasian      333  \n",
      "1               Asian      903  \n",
      "2               Asian      580  \n",
      "3               Asian      964  \n",
      "4           Caucasian      331  \n",
      "..                ...      ...  \n",
      "295         Caucasian        0  \n",
      "296         Caucasian      293  \n",
      "297             Asian      188  \n",
      "298  African American        0  \n",
      "299  African American      711  \n",
      "\n",
      "[300 rows x 10 columns]\n"
     ]
    }
   ],
   "source": [
    "# Note that we can also use the ordinary \"print\" function, but it won't\n",
    "# be as pretty.\n",
    "print(data)"
   ]
  },
  {
   "cell_type": "markdown",
   "metadata": {},
   "source": [
    "# Examining subsets of a DataFrame"
   ]
  },
  {
   "cell_type": "code",
   "execution_count": 6,
   "metadata": {
    "collapsed": false
   },
   "outputs": [
    {
     "data": {
      "text/html": [
       "<div>\n",
       "<table border=\"1\" class=\"dataframe\">\n",
       "  <thead>\n",
       "    <tr style=\"text-align: right;\">\n",
       "      <th></th>\n",
       "      <th>Income</th>\n",
       "      <th>Rating</th>\n",
       "      <th>Cards</th>\n",
       "      <th>Age</th>\n",
       "      <th>Education</th>\n",
       "      <th>Gender</th>\n",
       "      <th>Student</th>\n",
       "      <th>Married</th>\n",
       "      <th>Ethnicity</th>\n",
       "      <th>Balance</th>\n",
       "    </tr>\n",
       "  </thead>\n",
       "  <tbody>\n",
       "    <tr>\n",
       "      <th>0</th>\n",
       "      <td>14.891</td>\n",
       "      <td>283</td>\n",
       "      <td>2</td>\n",
       "      <td>34</td>\n",
       "      <td>11</td>\n",
       "      <td>Male</td>\n",
       "      <td>No</td>\n",
       "      <td>Yes</td>\n",
       "      <td>Caucasian</td>\n",
       "      <td>333</td>\n",
       "    </tr>\n",
       "    <tr>\n",
       "      <th>1</th>\n",
       "      <td>106.025</td>\n",
       "      <td>483</td>\n",
       "      <td>3</td>\n",
       "      <td>82</td>\n",
       "      <td>15</td>\n",
       "      <td>Female</td>\n",
       "      <td>Yes</td>\n",
       "      <td>Yes</td>\n",
       "      <td>Asian</td>\n",
       "      <td>903</td>\n",
       "    </tr>\n",
       "    <tr>\n",
       "      <th>2</th>\n",
       "      <td>104.593</td>\n",
       "      <td>514</td>\n",
       "      <td>4</td>\n",
       "      <td>71</td>\n",
       "      <td>11</td>\n",
       "      <td>Male</td>\n",
       "      <td>No</td>\n",
       "      <td>No</td>\n",
       "      <td>Asian</td>\n",
       "      <td>580</td>\n",
       "    </tr>\n",
       "    <tr>\n",
       "      <th>3</th>\n",
       "      <td>148.924</td>\n",
       "      <td>681</td>\n",
       "      <td>3</td>\n",
       "      <td>36</td>\n",
       "      <td>11</td>\n",
       "      <td>Female</td>\n",
       "      <td>No</td>\n",
       "      <td>No</td>\n",
       "      <td>Asian</td>\n",
       "      <td>964</td>\n",
       "    </tr>\n",
       "    <tr>\n",
       "      <th>4</th>\n",
       "      <td>55.882</td>\n",
       "      <td>357</td>\n",
       "      <td>2</td>\n",
       "      <td>68</td>\n",
       "      <td>16</td>\n",
       "      <td>Male</td>\n",
       "      <td>No</td>\n",
       "      <td>Yes</td>\n",
       "      <td>Caucasian</td>\n",
       "      <td>331</td>\n",
       "    </tr>\n",
       "  </tbody>\n",
       "</table>\n",
       "</div>"
      ],
      "text/plain": [
       "    Income  Rating  Cards  Age  Education  Gender Student Married  Ethnicity  \\\n",
       "0   14.891     283      2   34         11    Male      No     Yes  Caucasian   \n",
       "1  106.025     483      3   82         15  Female     Yes     Yes      Asian   \n",
       "2  104.593     514      4   71         11    Male      No      No      Asian   \n",
       "3  148.924     681      3   36         11  Female      No      No      Asian   \n",
       "4   55.882     357      2   68         16    Male      No     Yes  Caucasian   \n",
       "\n",
       "   Balance  \n",
       "0      333  \n",
       "1      903  \n",
       "2      580  \n",
       "3      964  \n",
       "4      331  "
      ]
     },
     "metadata": {},
     "output_type": "display_data"
    }
   ],
   "source": [
    "# The head() function can be helpful to quickly look at the first 5 \n",
    "# rows of a DataFrame\n",
    "display(data.head())"
   ]
  },
  {
   "cell_type": "code",
   "execution_count": 7,
   "metadata": {
    "collapsed": false,
    "scrolled": true
   },
   "outputs": [
    {
     "data": {
      "text/html": [
       "<div>\n",
       "<table border=\"1\" class=\"dataframe\">\n",
       "  <thead>\n",
       "    <tr style=\"text-align: right;\">\n",
       "      <th></th>\n",
       "      <th>Income</th>\n",
       "      <th>Rating</th>\n",
       "      <th>Cards</th>\n",
       "      <th>Age</th>\n",
       "      <th>Education</th>\n",
       "      <th>Gender</th>\n",
       "      <th>Student</th>\n",
       "      <th>Married</th>\n",
       "      <th>Ethnicity</th>\n",
       "      <th>Balance</th>\n",
       "    </tr>\n",
       "  </thead>\n",
       "  <tbody>\n",
       "    <tr>\n",
       "      <th>0</th>\n",
       "      <td>14.891</td>\n",
       "      <td>283</td>\n",
       "      <td>2</td>\n",
       "      <td>34</td>\n",
       "      <td>11</td>\n",
       "      <td>Male</td>\n",
       "      <td>No</td>\n",
       "      <td>Yes</td>\n",
       "      <td>Caucasian</td>\n",
       "      <td>333</td>\n",
       "    </tr>\n",
       "    <tr>\n",
       "      <th>1</th>\n",
       "      <td>106.025</td>\n",
       "      <td>483</td>\n",
       "      <td>3</td>\n",
       "      <td>82</td>\n",
       "      <td>15</td>\n",
       "      <td>Female</td>\n",
       "      <td>Yes</td>\n",
       "      <td>Yes</td>\n",
       "      <td>Asian</td>\n",
       "      <td>903</td>\n",
       "    </tr>\n",
       "    <tr>\n",
       "      <th>2</th>\n",
       "      <td>104.593</td>\n",
       "      <td>514</td>\n",
       "      <td>4</td>\n",
       "      <td>71</td>\n",
       "      <td>11</td>\n",
       "      <td>Male</td>\n",
       "      <td>No</td>\n",
       "      <td>No</td>\n",
       "      <td>Asian</td>\n",
       "      <td>580</td>\n",
       "    </tr>\n",
       "    <tr>\n",
       "      <th>3</th>\n",
       "      <td>148.924</td>\n",
       "      <td>681</td>\n",
       "      <td>3</td>\n",
       "      <td>36</td>\n",
       "      <td>11</td>\n",
       "      <td>Female</td>\n",
       "      <td>No</td>\n",
       "      <td>No</td>\n",
       "      <td>Asian</td>\n",
       "      <td>964</td>\n",
       "    </tr>\n",
       "    <tr>\n",
       "      <th>4</th>\n",
       "      <td>55.882</td>\n",
       "      <td>357</td>\n",
       "      <td>2</td>\n",
       "      <td>68</td>\n",
       "      <td>16</td>\n",
       "      <td>Male</td>\n",
       "      <td>No</td>\n",
       "      <td>Yes</td>\n",
       "      <td>Caucasian</td>\n",
       "      <td>331</td>\n",
       "    </tr>\n",
       "  </tbody>\n",
       "</table>\n",
       "</div>"
      ],
      "text/plain": [
       "    Income  Rating  Cards  Age  Education  Gender Student Married  Ethnicity  \\\n",
       "0   14.891     283      2   34         11    Male      No     Yes  Caucasian   \n",
       "1  106.025     483      3   82         15  Female     Yes     Yes      Asian   \n",
       "2  104.593     514      4   71         11    Male      No      No      Asian   \n",
       "3  148.924     681      3   36         11  Female      No      No      Asian   \n",
       "4   55.882     357      2   68         16    Male      No     Yes  Caucasian   \n",
       "\n",
       "   Balance  \n",
       "0      333  \n",
       "1      903  \n",
       "2      580  \n",
       "3      964  \n",
       "4      331  "
      ]
     },
     "metadata": {},
     "output_type": "display_data"
    }
   ],
   "source": [
    "# You can also use the slice syntax to get rows of a DataFrame\n",
    "display(data[0:5])"
   ]
  },
  {
   "cell_type": "code",
   "execution_count": 8,
   "metadata": {
    "collapsed": false
   },
   "outputs": [
    {
     "data": {
      "text/html": [
       "<div>\n",
       "<table border=\"1\" class=\"dataframe\">\n",
       "  <thead>\n",
       "    <tr style=\"text-align: right;\">\n",
       "      <th></th>\n",
       "      <th>Age</th>\n",
       "      <th>Gender</th>\n",
       "    </tr>\n",
       "  </thead>\n",
       "  <tbody>\n",
       "    <tr>\n",
       "      <th>0</th>\n",
       "      <td>34</td>\n",
       "      <td>Male</td>\n",
       "    </tr>\n",
       "    <tr>\n",
       "      <th>1</th>\n",
       "      <td>82</td>\n",
       "      <td>Female</td>\n",
       "    </tr>\n",
       "    <tr>\n",
       "      <th>2</th>\n",
       "      <td>71</td>\n",
       "      <td>Male</td>\n",
       "    </tr>\n",
       "    <tr>\n",
       "      <th>3</th>\n",
       "      <td>36</td>\n",
       "      <td>Female</td>\n",
       "    </tr>\n",
       "    <tr>\n",
       "      <th>4</th>\n",
       "      <td>68</td>\n",
       "      <td>Male</td>\n",
       "    </tr>\n",
       "    <tr>\n",
       "      <th>...</th>\n",
       "      <td>...</td>\n",
       "      <td>...</td>\n",
       "    </tr>\n",
       "    <tr>\n",
       "      <th>295</th>\n",
       "      <td>67</td>\n",
       "      <td>Female</td>\n",
       "    </tr>\n",
       "    <tr>\n",
       "      <th>296</th>\n",
       "      <td>49</td>\n",
       "      <td>Female</td>\n",
       "    </tr>\n",
       "    <tr>\n",
       "      <th>297</th>\n",
       "      <td>74</td>\n",
       "      <td>Male</td>\n",
       "    </tr>\n",
       "    <tr>\n",
       "      <th>298</th>\n",
       "      <td>70</td>\n",
       "      <td>Female</td>\n",
       "    </tr>\n",
       "    <tr>\n",
       "      <th>299</th>\n",
       "      <td>76</td>\n",
       "      <td>Female</td>\n",
       "    </tr>\n",
       "  </tbody>\n",
       "</table>\n",
       "<p>300 rows × 2 columns</p>\n",
       "</div>"
      ],
      "text/plain": [
       "     Age  Gender\n",
       "0     34    Male\n",
       "1     82  Female\n",
       "2     71    Male\n",
       "3     36  Female\n",
       "4     68    Male\n",
       "..   ...     ...\n",
       "295   67  Female\n",
       "296   49  Female\n",
       "297   74    Male\n",
       "298   70  Female\n",
       "299   76  Female\n",
       "\n",
       "[300 rows x 2 columns]"
      ]
     },
     "metadata": {},
     "output_type": "display_data"
    }
   ],
   "source": [
    "# If you want to select multiple columns, then put a list of column\n",
    "# names inside the brackets.\n",
    "display(data[[\"Age\", \"Gender\"]])\n",
    "# Note that this is equivalent to writing the following two lines\n",
    "# column_names = [\"Age\", \"Gender\"]\n",
    "# display(data[column_names])"
   ]
  },
  {
   "cell_type": "code",
   "execution_count": 9,
   "metadata": {
    "collapsed": false,
    "scrolled": true
   },
   "outputs": [
    {
     "name": "stdout",
     "output_type": "stream",
     "text": [
      "Type of multiple rows selected:\n",
      "<class 'pandas.core.frame.DataFrame'>\n",
      "Type of multiple columns selected:\n",
      "<class 'pandas.core.frame.DataFrame'>\n"
     ]
    }
   ],
   "source": [
    "# Note the type when we select multiple columns or rows\n",
    "print(\"Type of multiple rows selected:\")\n",
    "print(type(data[0:5]))\n",
    "print(\"Type of multiple columns selected:\")\n",
    "print(type(data[[\"Age\", \"Gender\"]]))"
   ]
  },
  {
   "cell_type": "markdown",
   "metadata": {},
   "source": [
    "# Examining and manipulating individual columns of a DataFrame"
   ]
  },
  {
   "cell_type": "code",
   "execution_count": 10,
   "metadata": {
    "collapsed": false
   },
   "outputs": [
    {
     "data": {
      "text/plain": [
       "0      34\n",
       "1      82\n",
       "2      71\n",
       "3      36\n",
       "4      68\n",
       "       ..\n",
       "295    67\n",
       "296    49\n",
       "297    74\n",
       "298    70\n",
       "299    76\n",
       "Name: Age, dtype: int64"
      ]
     },
     "metadata": {},
     "output_type": "display_data"
    }
   ],
   "source": [
    "# The square brackets can also be used to select a single column\n",
    "display(data[\"Age\"])"
   ]
  },
  {
   "cell_type": "code",
   "execution_count": 11,
   "metadata": {
    "collapsed": false
   },
   "outputs": [
    {
     "name": "stdout",
     "output_type": "stream",
     "text": [
      "<class 'pandas.core.series.Series'>\n"
     ]
    }
   ],
   "source": [
    "# Note the type when we select just a single column.\n",
    "# http://pandas.pydata.org/pandas-docs/stable/generated/pandas.Series.html\n",
    "print(type(data[\"Age\"]))"
   ]
  },
  {
   "cell_type": "markdown",
   "metadata": {},
   "source": [
    "Documentation links:\n",
    " * [pandas.Series](http://pandas.pydata.org/pandas-docs/stable/generated/pandas.Series.html), a one-dimensional array with axis labels (including time series).\n"
   ]
  },
  {
   "cell_type": "code",
   "execution_count": 12,
   "metadata": {
    "collapsed": false
   },
   "outputs": [
    {
     "name": "stdout",
     "output_type": "stream",
     "text": [
      "The first 5 rows of the \"Age\" column...\n"
     ]
    },
    {
     "data": {
      "text/plain": [
       "0    34\n",
       "1    82\n",
       "2    71\n",
       "3    36\n",
       "4    68\n",
       "Name: Age, dtype: int64"
      ]
     },
     "metadata": {},
     "output_type": "display_data"
    }
   ],
   "source": [
    "print(\"The first 5 rows of the \\\"Age\\\" column...\")\n",
    "display(data[\"Age\"].head())"
   ]
  },
  {
   "cell_type": "code",
   "execution_count": 13,
   "metadata": {
    "collapsed": false
   },
   "outputs": [
    {
     "name": "stdout",
     "output_type": "stream",
     "text": [
      "The first 5 rows of the \"Gender\" column...\n",
      "0      Male\n",
      "1    Female\n",
      "2      Male\n",
      "3    Female\n",
      "4      Male\n",
      "Name: Gender, dtype: object\n"
     ]
    }
   ],
   "source": [
    "# Select just the \"Gender\" column from the DataFrame.\n",
    "print(\"The first 5 rows of the \\\"Gender\\\" column...\")\n",
    "print(data[\"Gender\"].head())"
   ]
  },
  {
   "cell_type": "code",
   "execution_count": 14,
   "metadata": {
    "collapsed": false
   },
   "outputs": [
    {
     "name": "stdout",
     "output_type": "stream",
     "text": [
      "The first 5 rows of the \"Gender\" column (now as categories)...\n",
      "0      Male\n",
      "1    Female\n",
      "2      Male\n",
      "3    Female\n",
      "4      Male\n",
      "Name: Gender, dtype: category\n",
      "Categories (2, object): [Female, Male]\n"
     ]
    }
   ],
   "source": [
    "# Notice that the \"Gender\" column has type \"object\". Tell Pandas to convert these\n",
    "# to into categories, so that we can perform a regression on them.\n",
    "data[\"Gender\"] = data[\"Gender\"].astype(\"category\")\n",
    "print(\"The first 5 rows of the \\\"Gender\\\" column (now as categories)...\")\n",
    "print(data[\"Gender\"].head())"
   ]
  },
  {
   "cell_type": "code",
   "execution_count": 15,
   "metadata": {
    "collapsed": true
   },
   "outputs": [],
   "source": [
    "# Convert the Education, Student, Married and Ethnicity columns as well.\n",
    "data[\"Ethnicity\"] = data[\"Ethnicity\"].astype(\"category\")\n",
    "data[\"Student\"] = data[\"Student\"].astype(\"category\")\n",
    "data[\"Married\"] = data[\"Married\"].astype(\"category\")"
   ]
  },
  {
   "cell_type": "markdown",
   "metadata": {},
   "source": [
    "# Examining subsets of a DataFrame using tests"
   ]
  },
  {
   "cell_type": "code",
   "execution_count": 16,
   "metadata": {
    "collapsed": false
   },
   "outputs": [
    {
     "name": "stdout",
     "output_type": "stream",
     "text": [
      "0      False\n",
      "1      False\n",
      "2      False\n",
      "3      False\n",
      "4      False\n",
      "       ...  \n",
      "295    False\n",
      "296    False\n",
      "297    False\n",
      "298    False\n",
      "299    False\n",
      "Name: Age, dtype: bool\n"
     ]
    }
   ],
   "source": [
    "# A new series can be created using a test\n",
    "rows_over_85 = data[\"Age\"] > 85\n",
    "print(rows_over_85)"
   ]
  },
  {
   "cell_type": "code",
   "execution_count": 17,
   "metadata": {
    "collapsed": false
   },
   "outputs": [
    {
     "data": {
      "text/html": [
       "<div>\n",
       "<table border=\"1\" class=\"dataframe\">\n",
       "  <thead>\n",
       "    <tr style=\"text-align: right;\">\n",
       "      <th></th>\n",
       "      <th>Income</th>\n",
       "      <th>Rating</th>\n",
       "      <th>Cards</th>\n",
       "      <th>Age</th>\n",
       "      <th>Education</th>\n",
       "      <th>Gender</th>\n",
       "      <th>Student</th>\n",
       "      <th>Married</th>\n",
       "      <th>Ethnicity</th>\n",
       "      <th>Balance</th>\n",
       "    </tr>\n",
       "  </thead>\n",
       "  <tbody>\n",
       "    <tr>\n",
       "      <th>7</th>\n",
       "      <td>71.408</td>\n",
       "      <td>512</td>\n",
       "      <td>2</td>\n",
       "      <td>87</td>\n",
       "      <td>9</td>\n",
       "      <td>Male</td>\n",
       "      <td>No</td>\n",
       "      <td>No</td>\n",
       "      <td>Asian</td>\n",
       "      <td>872</td>\n",
       "    </tr>\n",
       "    <tr>\n",
       "      <th>128</th>\n",
       "      <td>123.299</td>\n",
       "      <td>610</td>\n",
       "      <td>2</td>\n",
       "      <td>89</td>\n",
       "      <td>17</td>\n",
       "      <td>Male</td>\n",
       "      <td>Yes</td>\n",
       "      <td>No</td>\n",
       "      <td>African American</td>\n",
       "      <td>1259</td>\n",
       "    </tr>\n",
       "    <tr>\n",
       "      <th>139</th>\n",
       "      <td>107.841</td>\n",
       "      <td>728</td>\n",
       "      <td>3</td>\n",
       "      <td>87</td>\n",
       "      <td>7</td>\n",
       "      <td>Male</td>\n",
       "      <td>No</td>\n",
       "      <td>No</td>\n",
       "      <td>African American</td>\n",
       "      <td>1597</td>\n",
       "    </tr>\n",
       "    <tr>\n",
       "      <th>209</th>\n",
       "      <td>151.947</td>\n",
       "      <td>642</td>\n",
       "      <td>2</td>\n",
       "      <td>91</td>\n",
       "      <td>11</td>\n",
       "      <td>Female</td>\n",
       "      <td>No</td>\n",
       "      <td>Yes</td>\n",
       "      <td>African American</td>\n",
       "      <td>732</td>\n",
       "    </tr>\n",
       "    <tr>\n",
       "      <th>266</th>\n",
       "      <td>88.830</td>\n",
       "      <td>360</td>\n",
       "      <td>4</td>\n",
       "      <td>86</td>\n",
       "      <td>16</td>\n",
       "      <td>Female</td>\n",
       "      <td>No</td>\n",
       "      <td>Yes</td>\n",
       "      <td>Caucasian</td>\n",
       "      <td>15</td>\n",
       "    </tr>\n",
       "  </tbody>\n",
       "</table>\n",
       "</div>"
      ],
      "text/plain": [
       "      Income  Rating  Cards  Age  Education  Gender Student Married  \\\n",
       "7     71.408     512      2   87          9    Male      No      No   \n",
       "128  123.299     610      2   89         17    Male     Yes      No   \n",
       "139  107.841     728      3   87          7    Male      No      No   \n",
       "209  151.947     642      2   91         11  Female      No     Yes   \n",
       "266   88.830     360      4   86         16  Female      No     Yes   \n",
       "\n",
       "            Ethnicity  Balance  \n",
       "7               Asian      872  \n",
       "128  African American     1259  \n",
       "139  African American     1597  \n",
       "209  African American      732  \n",
       "266         Caucasian       15  "
      ]
     },
     "metadata": {},
     "output_type": "display_data"
    }
   ],
   "source": [
    "# And this series can be used to index into the original data\n",
    "display(data[rows_over_85])"
   ]
  },
  {
   "cell_type": "code",
   "execution_count": 18,
   "metadata": {
    "collapsed": false
   },
   "outputs": [
    {
     "data": {
      "text/html": [
       "<div>\n",
       "<table border=\"1\" class=\"dataframe\">\n",
       "  <thead>\n",
       "    <tr style=\"text-align: right;\">\n",
       "      <th></th>\n",
       "      <th>Income</th>\n",
       "      <th>Rating</th>\n",
       "      <th>Cards</th>\n",
       "      <th>Age</th>\n",
       "      <th>Education</th>\n",
       "      <th>Gender</th>\n",
       "      <th>Student</th>\n",
       "      <th>Married</th>\n",
       "      <th>Ethnicity</th>\n",
       "      <th>Balance</th>\n",
       "    </tr>\n",
       "  </thead>\n",
       "  <tbody>\n",
       "    <tr>\n",
       "      <th>209</th>\n",
       "      <td>151.947</td>\n",
       "      <td>642</td>\n",
       "      <td>2</td>\n",
       "      <td>91</td>\n",
       "      <td>11</td>\n",
       "      <td>Female</td>\n",
       "      <td>No</td>\n",
       "      <td>Yes</td>\n",
       "      <td>African American</td>\n",
       "      <td>732</td>\n",
       "    </tr>\n",
       "    <tr>\n",
       "      <th>266</th>\n",
       "      <td>88.830</td>\n",
       "      <td>360</td>\n",
       "      <td>4</td>\n",
       "      <td>86</td>\n",
       "      <td>16</td>\n",
       "      <td>Female</td>\n",
       "      <td>No</td>\n",
       "      <td>Yes</td>\n",
       "      <td>Caucasian</td>\n",
       "      <td>15</td>\n",
       "    </tr>\n",
       "  </tbody>\n",
       "</table>\n",
       "</div>"
      ],
      "text/plain": [
       "      Income  Rating  Cards  Age  Education  Gender Student Married  \\\n",
       "209  151.947     642      2   91         11  Female      No     Yes   \n",
       "266   88.830     360      4   86         16  Female      No     Yes   \n",
       "\n",
       "            Ethnicity  Balance  \n",
       "209  African American      732  \n",
       "266         Caucasian       15  "
      ]
     },
     "metadata": {},
     "output_type": "display_data"
    }
   ],
   "source": [
    "# We can create multiple queries and add them together\n",
    "rows_female = data[\"Gender\"] == \"Female\"\n",
    "display(data[rows_female & rows_over_85])"
   ]
  },
  {
   "cell_type": "code",
   "execution_count": 19,
   "metadata": {
    "collapsed": true
   },
   "outputs": [],
   "source": [
    "# And we can create a new DataFrame variable from these rows\n",
    "# and columns, if we want.\n",
    "data_female_over_85 = data[rows_female & rows_over_85]"
   ]
  },
  {
   "cell_type": "markdown",
   "metadata": {},
   "source": [
    "# Summarizing Data"
   ]
  },
  {
   "cell_type": "code",
   "execution_count": 20,
   "metadata": {
    "collapsed": false
   },
   "outputs": [
    {
     "name": "stdout",
     "output_type": "stream",
     "text": [
      "           Income      Rating       Cards         Age   Education      Balance\n",
      "count  300.000000  300.000000  300.000000  300.000000  300.000000   300.000000\n",
      "mean    44.054393  348.116667    3.026667   54.983333   13.393333   502.686667\n",
      "std     33.863066  150.871547    1.351064   17.216982    3.075193   466.991447\n",
      "min     10.354000   93.000000    1.000000   24.000000    5.000000     0.000000\n",
      "25%     21.027500  235.000000    2.000000   41.000000   11.000000    15.750000\n",
      "50%     33.115500  339.000000    3.000000   55.000000   14.000000   433.500000\n",
      "75%     55.975500  433.000000    4.000000   69.000000   16.000000   857.750000\n",
      "max    186.634000  949.000000    8.000000   91.000000   20.000000  1809.000000\n"
     ]
    }
   ],
   "source": [
    "# Use the describe function to get a quick statistical summary\n",
    "print(data.describe())"
   ]
  },
  {
   "cell_type": "code",
   "execution_count": 22,
   "metadata": {
    "collapsed": false
   },
   "outputs": [
    {
     "name": "stdout",
     "output_type": "stream",
     "text": [
      "        Gender Student Married  Ethnicity\n",
      "count      300     300     300        300\n",
      "unique       2       2       2          3\n",
      "top     Female      No     Yes  Caucasian\n",
      "freq       168     268     183        141\n"
     ]
    }
   ],
   "source": [
    "# Use describe to list the category data statistics.\n",
    "print(data.describe(include=[\"category\"]))"
   ]
  },
  {
   "cell_type": "code",
   "execution_count": 21,
   "metadata": {
    "collapsed": false
   },
   "outputs": [
    {
     "data": {
      "text/plain": [
       "<matplotlib.text.Text at 0x1117647b8>"
      ]
     },
     "execution_count": 21,
     "metadata": {},
     "output_type": "execute_result"
    },
    {
     "data": {
      "image/png": "[encoded data removed]",
      "text/plain": [
       "<matplotlib.figure.Figure at 0x111738438>"
      ]
     },
     "metadata": {},
     "output_type": "display_data"
    }
   ],
   "source": [
    "# Produce a histogram of the credit scores\n",
    "plt.hist(data[\"Rating\"])\n",
    "plt.xlabel(\"Rating\")\n",
    "plt.ylabel(\"Frequency\")"
   ]
  },
  {
   "cell_type": "code",
   "execution_count": 22,
   "metadata": {
    "collapsed": false,
    "scrolled": true
   },
   "outputs": [
    {
     "data": {
      "text/html": [
       "<div>\n",
       "<table border=\"1\" class=\"dataframe\">\n",
       "  <thead>\n",
       "    <tr style=\"text-align: right;\">\n",
       "      <th></th>\n",
       "      <th>Income</th>\n",
       "      <th>Rating</th>\n",
       "      <th>Cards</th>\n",
       "      <th>Age</th>\n",
       "      <th>Education</th>\n",
       "      <th>Balance</th>\n",
       "    </tr>\n",
       "  </thead>\n",
       "  <tbody>\n",
       "    <tr>\n",
       "      <th>Income</th>\n",
       "      <td>1.000000</td>\n",
       "      <td>0.771167</td>\n",
       "      <td>0.028875</td>\n",
       "      <td>0.123201</td>\n",
       "      <td>-0.070959</td>\n",
       "      <td>0.432327</td>\n",
       "    </tr>\n",
       "    <tr>\n",
       "      <th>Rating</th>\n",
       "      <td>0.771167</td>\n",
       "      <td>1.000000</td>\n",
       "      <td>0.095854</td>\n",
       "      <td>0.042377</td>\n",
       "      <td>-0.095433</td>\n",
       "      <td>0.859829</td>\n",
       "    </tr>\n",
       "    <tr>\n",
       "      <th>Cards</th>\n",
       "      <td>0.028875</td>\n",
       "      <td>0.095854</td>\n",
       "      <td>1.000000</td>\n",
       "      <td>0.054655</td>\n",
       "      <td>0.015176</td>\n",
       "      <td>0.123846</td>\n",
       "    </tr>\n",
       "    <tr>\n",
       "      <th>Age</th>\n",
       "      <td>0.123201</td>\n",
       "      <td>0.042377</td>\n",
       "      <td>0.054655</td>\n",
       "      <td>1.000000</td>\n",
       "      <td>-0.046178</td>\n",
       "      <td>-0.052426</td>\n",
       "    </tr>\n",
       "    <tr>\n",
       "      <th>Education</th>\n",
       "      <td>-0.070959</td>\n",
       "      <td>-0.095433</td>\n",
       "      <td>0.015176</td>\n",
       "      <td>-0.046178</td>\n",
       "      <td>1.000000</td>\n",
       "      <td>-0.073167</td>\n",
       "    </tr>\n",
       "    <tr>\n",
       "      <th>Balance</th>\n",
       "      <td>0.432327</td>\n",
       "      <td>0.859829</td>\n",
       "      <td>0.123846</td>\n",
       "      <td>-0.052426</td>\n",
       "      <td>-0.073167</td>\n",
       "      <td>1.000000</td>\n",
       "    </tr>\n",
       "  </tbody>\n",
       "</table>\n",
       "</div>"
      ],
      "text/plain": [
       "             Income    Rating     Cards       Age  Education   Balance\n",
       "Income     1.000000  0.771167  0.028875  0.123201  -0.070959  0.432327\n",
       "Rating     0.771167  1.000000  0.095854  0.042377  -0.095433  0.859829\n",
       "Cards      0.028875  0.095854  1.000000  0.054655   0.015176  0.123846\n",
       "Age        0.123201  0.042377  0.054655  1.000000  -0.046178 -0.052426\n",
       "Education -0.070959 -0.095433  0.015176 -0.046178   1.000000 -0.073167\n",
       "Balance    0.432327  0.859829  0.123846 -0.052426  -0.073167  1.000000"
      ]
     },
     "execution_count": 22,
     "metadata": {},
     "output_type": "execute_result"
    }
   ],
   "source": [
    "# Compute the correlation between all the numerical variables of the sample\n",
    "data.corr()"
   ]
  },
  {
   "cell_type": "markdown",
   "metadata": {},
   "source": [
    "# Model fitting using Ordinary Least Squares"
   ]
  },
  {
   "cell_type": "code",
   "execution_count": 23,
   "metadata": {
    "collapsed": false
   },
   "outputs": [
    {
     "name": "stdout",
     "output_type": "stream",
     "text": [
      "<class 'statsmodels.regression.linear_model.OLS'>\n",
      "<class 'statsmodels.regression.linear_model.RegressionResultsWrapper'>\n"
     ]
    }
   ],
   "source": [
    "# We will do an OLS (ordinary least squares) fit of the data in our pandas\n",
    "# DataFrame using the statsmodels library.\n",
    "# http://statsmodels.sourceforge.net/devel/example_formulas.html\n",
    "\n",
    "# statsmodels has us specify formulas using the R formula synatx, which is\n",
    "#   response variable ~ explanatory variables\n",
    "linear_model_formula = \"Rating ~ Income + Cards + Age + Education + Balance + C(Gender) + C(Student) + C(Married) + C(Ethnicity)\"\n",
    "\n",
    "# Create an ordinary least squares model using that formula and our data.\n",
    "# The type of the result in statsmodels.regression.linear_model.OLS, see\n",
    "# additional documentation at:\n",
    "# http://statsmodels.sourceforge.net/devel/generated/statsmodels.regression.linear_model.OLS.html\n",
    "linear_model = smf.ols(formula=linear_model_formula, data=data)\n",
    "print(type(linear_model))\n",
    "\n",
    "# Perform a full fit of the model, and get the result. The type of the result\n",
    "# is statsmodels.regression.linear_model.RegressionResults, which has more\n",
    "# documentation at:\n",
    "# http://statsmodels.sourceforge.net/devel/generated/statsmodels.regression.linear_model.RegressionResults.html\n",
    "linear_model_fit = linear_model.fit()\n",
    "print(type(linear_model_fit))"
   ]
  },
  {
   "cell_type": "markdown",
   "metadata": {},
   "source": [
    "Documentation:\n",
    " * [statsmodels introduction](http://statsmodels.sourceforge.net/devel/example_formulas.html)\n",
    " * [statsmodels.regression.linear_model.OLS](http://statsmodels.sourceforge.net/devel/generated/statsmodels.regression.linear_model.OLS.html)\n",
    " * [statsmodels.regression.linear_model.RegressionResults](http://statsmodels.sourceforge.net/devel/generated/statsmodels.regression.linear_model.RegressionResults.html)"
   ]
  },
  {
   "cell_type": "code",
   "execution_count": 26,
   "metadata": {
    "collapsed": false
   },
   "outputs": [
    {
     "data": {
      "text/html": [
       "<table class=\"simpletable\">\n",
       "<caption>OLS Regression Results</caption>\n",
       "<tr>\n",
       "  <th>Dep. Variable:</th>         <td>Rating</td>      <th>  R-squared:         </th> <td>   0.974</td> \n",
       "</tr>\n",
       "<tr>\n",
       "  <th>Model:</th>                   <td>OLS</td>       <th>  Adj. R-squared:    </th> <td>   0.973</td> \n",
       "</tr>\n",
       "<tr>\n",
       "  <th>Method:</th>             <td>Least Squares</td>  <th>  F-statistic:       </th> <td>   1067.</td> \n",
       "</tr>\n",
       "<tr>\n",
       "  <th>Date:</th>             <td>Mon, 02 Jan 2017</td> <th>  Prob (F-statistic):</th> <td>1.17e-221</td>\n",
       "</tr>\n",
       "<tr>\n",
       "  <th>Time:</th>                 <td>16:25:11</td>     <th>  Log-Likelihood:    </th> <td> -1384.7</td> \n",
       "</tr>\n",
       "<tr>\n",
       "  <th>No. Observations:</th>      <td>   300</td>      <th>  AIC:               </th> <td>   2791.</td> \n",
       "</tr>\n",
       "<tr>\n",
       "  <th>Df Residuals:</th>          <td>   289</td>      <th>  BIC:               </th> <td>   2832.</td> \n",
       "</tr>\n",
       "<tr>\n",
       "  <th>Df Model:</th>              <td>    10</td>      <th>                     </th>     <td> </td>    \n",
       "</tr>\n",
       "<tr>\n",
       "  <th>Covariance Type:</th>      <td>nonrobust</td>    <th>                     </th>     <td> </td>    \n",
       "</tr>\n",
       "</table>\n",
       "<table class=\"simpletable\">\n",
       "<tr>\n",
       "              <td></td>                 <th>coef</th>     <th>std err</th>      <th>t</th>      <th>P>|t|</th> <th>[95.0% Conf. Int.]</th> \n",
       "</tr>\n",
       "<tr>\n",
       "  <th>Intercept</th>                 <td>  142.6518</td> <td>    9.636</td> <td>   14.805</td> <td> 0.000</td> <td>  123.687   161.617</td>\n",
       "</tr>\n",
       "<tr>\n",
       "  <th>C(Gender)[T.Male]</th>         <td>   -1.7704</td> <td>    2.918</td> <td>   -0.607</td> <td> 0.544</td> <td>   -7.513     3.973</td>\n",
       "</tr>\n",
       "<tr>\n",
       "  <th>C(Student)[T.Yes]</th>         <td>  -98.8048</td> <td>    4.960</td> <td>  -19.921</td> <td> 0.000</td> <td> -108.567   -89.043</td>\n",
       "</tr>\n",
       "<tr>\n",
       "  <th>C(Married)[T.Yes]</th>         <td>    3.1769</td> <td>    3.006</td> <td>    1.057</td> <td> 0.291</td> <td>   -2.739     9.092</td>\n",
       "</tr>\n",
       "<tr>\n",
       "  <th>C(Ethnicity)[T.Asian]</th>     <td>   -4.4283</td> <td>    4.007</td> <td>   -1.105</td> <td> 0.270</td> <td>  -12.315     3.458</td>\n",
       "</tr>\n",
       "<tr>\n",
       "  <th>C(Ethnicity)[T.Caucasian]</th> <td>   -1.2506</td> <td>    3.534</td> <td>   -0.354</td> <td> 0.724</td> <td>   -8.206     5.705</td>\n",
       "</tr>\n",
       "<tr>\n",
       "  <th>Income</th>                    <td>    2.0947</td> <td>    0.048</td> <td>   43.533</td> <td> 0.000</td> <td>    2.000     2.189</td>\n",
       "</tr>\n",
       "<tr>\n",
       "  <th>Cards</th>                     <td>   -0.7629</td> <td>    1.080</td> <td>   -0.706</td> <td> 0.480</td> <td>   -2.888     1.363</td>\n",
       "</tr>\n",
       "<tr>\n",
       "  <th>Age</th>                       <td>    0.1446</td> <td>    0.086</td> <td>    1.684</td> <td> 0.093</td> <td>   -0.024     0.314</td>\n",
       "</tr>\n",
       "<tr>\n",
       "  <th>Education</th>                 <td>    0.1794</td> <td>    0.474</td> <td>    0.379</td> <td> 0.705</td> <td>   -0.753     1.112</td>\n",
       "</tr>\n",
       "<tr>\n",
       "  <th>Balance</th>                   <td>    0.2314</td> <td>    0.004</td> <td>   63.189</td> <td> 0.000</td> <td>    0.224     0.239</td>\n",
       "</tr>\n",
       "</table>\n",
       "<table class=\"simpletable\">\n",
       "<tr>\n",
       "  <th>Omnibus:</th>       <td>42.495</td> <th>  Durbin-Watson:     </th> <td>   1.854</td>\n",
       "</tr>\n",
       "<tr>\n",
       "  <th>Prob(Omnibus):</th> <td> 0.000</td> <th>  Jarque-Bera (JB):  </th> <td>  56.375</td>\n",
       "</tr>\n",
       "<tr>\n",
       "  <th>Skew:</th>          <td>-0.987</td> <th>  Prob(JB):          </th> <td>5.73e-13</td>\n",
       "</tr>\n",
       "<tr>\n",
       "  <th>Kurtosis:</th>      <td> 3.784</td> <th>  Cond. No.          </th> <td>4.68e+03</td>\n",
       "</tr>\n",
       "</table>"
      ],
      "text/plain": [
       "<class 'statsmodels.iolib.summary.Summary'>\n",
       "\"\"\"\n",
       "                            OLS Regression Results                            \n",
       "==============================================================================\n",
       "Dep. Variable:                 Rating   R-squared:                       0.974\n",
       "Model:                            OLS   Adj. R-squared:                  0.973\n",
       "Method:                 Least Squares   F-statistic:                     1067.\n",
       "Date:                Mon, 02 Jan 2017   Prob (F-statistic):          1.17e-221\n",
       "Time:                        16:25:11   Log-Likelihood:                -1384.7\n",
       "No. Observations:                 300   AIC:                             2791.\n",
       "Df Residuals:                     289   BIC:                             2832.\n",
       "Df Model:                          10                                         \n",
       "Covariance Type:            nonrobust                                         \n",
       "=============================================================================================\n",
       "                                coef    std err          t      P>|t|      [95.0% Conf. Int.]\n",
       "---------------------------------------------------------------------------------------------\n",
       "Intercept                   142.6518      9.636     14.805      0.000       123.687   161.617\n",
       "C(Gender)[T.Male]            -1.7704      2.918     -0.607      0.544        -7.513     3.973\n",
       "C(Student)[T.Yes]           -98.8048      4.960    -19.921      0.000      -108.567   -89.043\n",
       "C(Married)[T.Yes]             3.1769      3.006      1.057      0.291        -2.739     9.092\n",
       "C(Ethnicity)[T.Asian]        -4.4283      4.007     -1.105      0.270       -12.315     3.458\n",
       "C(Ethnicity)[T.Caucasian]    -1.2506      3.534     -0.354      0.724        -8.206     5.705\n",
       "Income                        2.0947      0.048     43.533      0.000         2.000     2.189\n",
       "Cards                        -0.7629      1.080     -0.706      0.480        -2.888     1.363\n",
       "Age                           0.1446      0.086      1.684      0.093        -0.024     0.314\n",
       "Education                     0.1794      0.474      0.379      0.705        -0.753     1.112\n",
       "Balance                       0.2314      0.004     63.189      0.000         0.224     0.239\n",
       "==============================================================================\n",
       "Omnibus:                       42.495   Durbin-Watson:                   1.854\n",
       "Prob(Omnibus):                  0.000   Jarque-Bera (JB):               56.375\n",
       "Skew:                          -0.987   Prob(JB):                     5.73e-13\n",
       "Kurtosis:                       3.784   Cond. No.                     4.68e+03\n",
       "==============================================================================\n",
       "\n",
       "Warnings:\n",
       "[1] Standard Errors assume that the covariance matrix of the errors is correctly specified.\n",
       "[2] The condition number is large, 4.68e+03. This might indicate that there are\n",
       "strong multicollinearity or other numerical problems.\n",
       "\"\"\""
      ]
     },
     "execution_count": 26,
     "metadata": {},
     "output_type": "execute_result"
    }
   ],
   "source": [
    "# Get a quick summary of the Linear model we had fit to the data\n",
    "linear_model_fit.summary()"
   ]
  },
  {
   "cell_type": "code",
   "execution_count": 24,
   "metadata": {
    "collapsed": false,
    "scrolled": false
   },
   "outputs": [
    {
     "name": "stdout",
     "output_type": "stream",
     "text": [
      "<class 'numpy.ndarray'>\n"
     ]
    }
   ],
   "source": [
    "# Compute the predicted ratings.\n",
    "predicted_rating = linear_model_fit.predict()\n",
    "print(type(predicted_rating))"
   ]
  },
  {
   "cell_type": "code",
   "execution_count": 25,
   "metadata": {
    "collapsed": false
   },
   "outputs": [
    {
     "name": "stdout",
     "output_type": "stream",
     "text": [
      "<class 'pandas.core.series.Series'>\n"
     ]
    }
   ],
   "source": [
    "# Convert the result to a pandas series.\n",
    "predicted_rating = pd.Series(predicted_rating, name=\"PredictedRating\")\n",
    "print(type(predicted_rating))"
   ]
  },
  {
   "cell_type": "code",
   "execution_count": 26,
   "metadata": {
    "collapsed": false
   },
   "outputs": [
    {
     "data": {
      "text/plain": [
       "0.9867324157146663"
      ]
     },
     "execution_count": 26,
     "metadata": {},
     "output_type": "execute_result"
    }
   ],
   "source": [
    "# Compute the correlation between the fitted values and the actual ones\n",
    "predicted_rating.corr(data[\"Rating\"])"
   ]
  },
  {
   "cell_type": "code",
   "execution_count": 27,
   "metadata": {
    "collapsed": false
   },
   "outputs": [
    {
     "data": {
      "text/plain": [
       "<matplotlib.text.Text at 0x114ee90b8>"
      ]
     },
     "execution_count": 27,
     "metadata": {},
     "output_type": "execute_result"
    },
    {
     "data": {
      "image/png": "[encoded data removed]",
      "text/plain": [
       "<matplotlib.figure.Figure at 0x102bc6cf8>"
      ]
     },
     "metadata": {},
     "output_type": "display_data"
    }
   ],
   "source": [
    "# Plot the actual rating versus predicted rating\n",
    "plt.scatter(data[\"Rating\"], predicted_rating)\n",
    "plt.xlabel(\"Actual Rating\")\n",
    "plt.ylabel(\"Predicted Rating\")"
   ]
  },
  {
   "cell_type": "markdown",
   "metadata": {},
   "source": [
    "# Another OLS model fitting"
   ]
  },
  {
   "cell_type": "code",
   "execution_count": 35,
   "metadata": {
    "collapsed": false
   },
   "outputs": [],
   "source": [
    "new_linear_model_formula = \"Rating ~ Income + Cards + C(Married)\"\n",
    "new_linear_model = smf.ols(formula=new_linear_model_formula, data=data)\n",
    "new_linear_model_fit = new_linear_model.fit()\n",
    "\n",
    "new_predicted_rating = new_linear_model_fit.predict()\n",
    "new_predicted_rating = pd.Series(new_predicted_rating, name=\"NewPredictedRating\")"
   ]
  },
  {
   "cell_type": "code",
   "execution_count": 36,
   "metadata": {
    "collapsed": false
   },
   "outputs": [
    {
     "data": {
      "text/plain": [
       "0.77562009780937868"
      ]
     },
     "execution_count": 36,
     "metadata": {},
     "output_type": "execute_result"
    }
   ],
   "source": [
    "# Compute the correlation between the fitted values and the actual ones\n",
    "new_predicted_rating.corr(data[\"Rating\"]) "
   ]
  },
  {
   "cell_type": "code",
   "execution_count": 37,
   "metadata": {
    "collapsed": false
   },
   "outputs": [
    {
     "data": {
      "text/html": [
       "<table class=\"simpletable\">\n",
       "<caption>OLS Regression Results</caption>\n",
       "<tr>\n",
       "  <th>Dep. Variable:</th>         <td>Rating</td>      <th>  R-squared:         </th> <td>   0.602</td>\n",
       "</tr>\n",
       "<tr>\n",
       "  <th>Model:</th>                   <td>OLS</td>       <th>  Adj. R-squared:    </th> <td>   0.598</td>\n",
       "</tr>\n",
       "<tr>\n",
       "  <th>Method:</th>             <td>Least Squares</td>  <th>  F-statistic:       </th> <td>   149.0</td>\n",
       "</tr>\n",
       "<tr>\n",
       "  <th>Date:</th>             <td>Thu, 05 Jan 2017</td> <th>  Prob (F-statistic):</th> <td>7.56e-59</td>\n",
       "</tr>\n",
       "<tr>\n",
       "  <th>Time:</th>                 <td>15:18:59</td>     <th>  Log-Likelihood:    </th> <td> -1792.1</td>\n",
       "</tr>\n",
       "<tr>\n",
       "  <th>No. Observations:</th>      <td>   300</td>      <th>  AIC:               </th> <td>   3592.</td>\n",
       "</tr>\n",
       "<tr>\n",
       "  <th>Df Residuals:</th>          <td>   296</td>      <th>  BIC:               </th> <td>   3607.</td>\n",
       "</tr>\n",
       "<tr>\n",
       "  <th>Df Model:</th>              <td>     3</td>      <th>                     </th>     <td> </td>   \n",
       "</tr>\n",
       "<tr>\n",
       "  <th>Covariance Type:</th>      <td>nonrobust</td>    <th>                     </th>     <td> </td>   \n",
       "</tr>\n",
       "</table>\n",
       "<table class=\"simpletable\">\n",
       "<tr>\n",
       "          <td></td>             <th>coef</th>     <th>std err</th>      <th>t</th>      <th>P>|t|</th> <th>[95.0% Conf. Int.]</th> \n",
       "</tr>\n",
       "<tr>\n",
       "  <th>Intercept</th>         <td>  165.2144</td> <td>   16.641</td> <td>    9.928</td> <td> 0.000</td> <td>  132.464   197.964</td>\n",
       "</tr>\n",
       "<tr>\n",
       "  <th>C(Married)[T.Yes]</th> <td>   11.8404</td> <td>   11.339</td> <td>    1.044</td> <td> 0.297</td> <td>  -10.474    34.155</td>\n",
       "</tr>\n",
       "<tr>\n",
       "  <th>Income</th>            <td>    3.4196</td> <td>    0.164</td> <td>   20.896</td> <td> 0.000</td> <td>    3.098     3.742</td>\n",
       "</tr>\n",
       "<tr>\n",
       "  <th>Cards</th>             <td>    8.2699</td> <td>    4.099</td> <td>    2.018</td> <td> 0.045</td> <td>    0.203    16.336</td>\n",
       "</tr>\n",
       "</table>\n",
       "<table class=\"simpletable\">\n",
       "<tr>\n",
       "  <th>Omnibus:</th>       <td>133.940</td> <th>  Durbin-Watson:     </th> <td>   1.873</td>\n",
       "</tr>\n",
       "<tr>\n",
       "  <th>Prob(Omnibus):</th> <td> 0.000</td>  <th>  Jarque-Bera (JB):  </th> <td>  17.170</td>\n",
       "</tr>\n",
       "<tr>\n",
       "  <th>Skew:</th>          <td> 0.044</td>  <th>  Prob(JB):          </th> <td>0.000187</td>\n",
       "</tr>\n",
       "<tr>\n",
       "  <th>Kurtosis:</th>      <td> 1.831</td>  <th>  Cond. No.          </th> <td>    179.</td>\n",
       "</tr>\n",
       "</table>"
      ],
      "text/plain": [
       "<class 'statsmodels.iolib.summary.Summary'>\n",
       "\"\"\"\n",
       "                            OLS Regression Results                            \n",
       "==============================================================================\n",
       "Dep. Variable:                 Rating   R-squared:                       0.602\n",
       "Model:                            OLS   Adj. R-squared:                  0.598\n",
       "Method:                 Least Squares   F-statistic:                     149.0\n",
       "Date:                Thu, 05 Jan 2017   Prob (F-statistic):           7.56e-59\n",
       "Time:                        15:18:59   Log-Likelihood:                -1792.1\n",
       "No. Observations:                 300   AIC:                             3592.\n",
       "Df Residuals:                     296   BIC:                             3607.\n",
       "Df Model:                           3                                         \n",
       "Covariance Type:            nonrobust                                         \n",
       "=====================================================================================\n",
       "                        coef    std err          t      P>|t|      [95.0% Conf. Int.]\n",
       "-------------------------------------------------------------------------------------\n",
       "Intercept           165.2144     16.641      9.928      0.000       132.464   197.964\n",
       "C(Married)[T.Yes]    11.8404     11.339      1.044      0.297       -10.474    34.155\n",
       "Income                3.4196      0.164     20.896      0.000         3.098     3.742\n",
       "Cards                 8.2699      4.099      2.018      0.045         0.203    16.336\n",
       "==============================================================================\n",
       "Omnibus:                      133.940   Durbin-Watson:                   1.873\n",
       "Prob(Omnibus):                  0.000   Jarque-Bera (JB):               17.170\n",
       "Skew:                           0.044   Prob(JB):                     0.000187\n",
       "Kurtosis:                       1.831   Cond. No.                         179.\n",
       "==============================================================================\n",
       "\n",
       "Warnings:\n",
       "[1] Standard Errors assume that the covariance matrix of the errors is correctly specified.\n",
       "\"\"\""
      ]
     },
     "execution_count": 37,
     "metadata": {},
     "output_type": "execute_result"
    }
   ],
   "source": [
    "new_linear_model_fit.summary()"
   ]
  },
  {
   "cell_type": "code",
   "execution_count": 30,
   "metadata": {
    "collapsed": false
   },
   "outputs": [
    {
     "data": {
      "text/plain": [
       "<matplotlib.text.Text at 0x114f60ac8>"
      ]
     },
     "execution_count": 30,
     "metadata": {},
     "output_type": "execute_result"
    },
    {
     "data": {
      "image/png": "[encoded data removed]",
      "text/plain": [
       "<matplotlib.figure.Figure at 0x114f41470>"
      ]
     },
     "metadata": {},
     "output_type": "display_data"
    }
   ],
   "source": [
    "# Plot the actual rating versus predicted rating\n",
    "plt.scatter(data[\"Rating\"], new_predicted_rating)\n",
    "plt.xlabel(\"Actual Rating\")\n",
    "plt.ylabel(\"Predicted Rating (New Model)\")"
   ]
  },
  {
   "cell_type": "markdown",
   "metadata": {},
   "source": [
    "# Direct Data Visualization"
   ]
  },
  {
   "cell_type": "code",
   "execution_count": 32,
   "metadata": {
    "collapsed": false
   },
   "outputs": [
    {
     "data": {
      "text/plain": [
       "<matplotlib.text.Text at 0x1151d47f0>"
      ]
     },
     "execution_count": 32,
     "metadata": {},
     "output_type": "execute_result"
    },
    {
     "data": {
      "image/png": "[encoded data removed]",
      "text/plain": [
       "<matplotlib.figure.Figure at 0x1150af2b0>"
      ]
     },
     "metadata": {},
     "output_type": "display_data"
    }
   ],
   "source": [
    "# Visualize the relationship between Income and Rating\n",
    "plt.scatter(data[\"Rating\"], data[\"Income\"])\n",
    "plt.xlabel(\"Actual Rating\")\n",
    "plt.ylabel(\"Income\")"
   ]
  },
  {
   "cell_type": "markdown",
   "metadata": {},
   "source": [
    "Note that this is just a scaled version of the predicted-versus-actual graph. This makes sense, because the only feature that was used in the predicted-versus-actual was income, and the linear regression just scaled that."
   ]
  },
  {
   "cell_type": "code",
   "execution_count": 33,
   "metadata": {
    "collapsed": false
   },
   "outputs": [
    {
     "data": {
      "text/plain": [
       "<matplotlib.text.Text at 0x11530b5f8>"
      ]
     },
     "execution_count": 33,
     "metadata": {},
     "output_type": "execute_result"
    },
    {
     "data": {
      "image/png": "[encoded data removed]",
      "text/plain": [
       "<matplotlib.figure.Figure at 0x114f60208>"
      ]
     },
     "metadata": {},
     "output_type": "display_data"
    }
   ],
   "source": [
    "# Visualize the relationship between Balance and Rating\n",
    "plt.scatter(data[\"Rating\"], data[\"Age\"])\n",
    "plt.xlabel(\"Actual Ratings\")\n",
    "plt.ylabel(\"Age\")"
   ]
  },
  {
   "cell_type": "markdown",
   "metadata": {},
   "source": [
    "Note that this is mostly noise, which is consistent with Age having a low p-value."
   ]
  }
 ],
 "metadata": {
  "anaconda-cloud": {},
  "kernelspec": {
   "display_name": "Python [conda root]",
   "language": "python",
   "name": "conda-root-py"
  },
  "language_info": {
   "codemirror_mode": {
    "name": "ipython",
    "version": 3
   },
   "file_extension": ".py",
   "mimetype": "text/x-python",
   "name": "python",
   "nbconvert_exporter": "python",
   "pygments_lexer": "ipython3",
   "version": "3.5.2"
  }
 },
 "nbformat": 4,
 "nbformat_minor": 0
}
